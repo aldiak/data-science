{
 "cells": [
  {
   "cell_type": "code",
   "execution_count": 2,
   "metadata": {},
   "outputs": [
    {
     "name": "stderr",
     "output_type": "stream",
     "text": [
      "C:\\Users\\Alou\\Anaconda\\envs\\thesis\\lib\\site-packages\\pandas_datareader\\compat\\__init__.py:7: FutureWarning: pandas.util.testing is deprecated. Use the functions in the public API at pandas.testing instead.\n",
      "  from pandas.util.testing import assert_frame_equal\n"
     ]
    }
   ],
   "source": [
    "from pandas_datareader import data, wb\n",
    "import pandas as pd\n",
    "import numpy as np\n",
    "import matplotlib.pyplot as plt\n",
    "%matplotlib inline"
   ]
  },
  {
   "cell_type": "code",
   "execution_count": 4,
   "metadata": {},
   "outputs": [],
   "source": [
    "import datetime"
   ]
  },
  {
   "cell_type": "code",
   "execution_count": null,
   "metadata": {},
   "outputs": [],
   "source": [
    "# Get data\n",
    "\n",
    "start = datetime.datetime(2006,1,1)\n",
    "end = datetime.datetime(2016,1,1)\n",
    "BAC = data.DataReader(\"BAC\", \"yahoo\", start, end) # Bank of America\n",
    "C = data.DataReader(\"C\", \"yahoo\", start, end)     # CityGroup\n",
    "GS = data.DataReader(\"GS\", \"yahoo\", start, end)   # Goldman Sachs\n",
    "JPM = data.DataReader(\"GPM\", \"yahoo\", start, end)  # GPMorgan Chase\n",
    "MS = data.DataReader(\"MS\", \"yahoo\", start, end)    # Morgan Stanley\n",
    "WFC = data.DataReader(\"WFC\", \"yahoo\", start, end)   # Wellls Fargo"
   ]
  },
  {
   "cell_type": "code",
   "execution_count": null,
   "metadata": {},
   "outputs": [],
   "source": [
    "# Create a list of ticker symbols (as string) in alpha order.\n",
    "\n",
    "tickers = ['BAC', 'C', 'GPM', 'GS', 'MS', 'WFC']"
   ]
  },
  {
   "cell_type": "code",
   "execution_count": null,
   "metadata": {},
   "outputs": [],
   "source": []
  }
 ],
 "metadata": {
  "kernelspec": {
   "display_name": "Python 3",
   "language": "python",
   "name": "python3"
  },
  "language_info": {
   "codemirror_mode": {
    "name": "ipython",
    "version": 3
   },
   "file_extension": ".py",
   "mimetype": "text/x-python",
   "name": "python",
   "nbconvert_exporter": "python",
   "pygments_lexer": "ipython3",
   "version": "3.7.6"
  }
 },
 "nbformat": 4,
 "nbformat_minor": 4
}
